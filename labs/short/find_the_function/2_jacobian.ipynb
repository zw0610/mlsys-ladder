{
 "cells": [
  {
   "cell_type": "markdown",
   "metadata": {},
   "source": [
    "# 阶段二：寻找函数\n",
    "\n",
    "## 用（雅各比）迭代法求解 N 元 一次方程组\n",
    "\n",
    "之前我们求解的都是 3 元一次方程组。如果拟合函数很复杂，有好多元，那我们需要一个更通用的求解方法。"
   ]
  },
  {
   "cell_type": "code",
   "execution_count": null,
   "metadata": {},
   "outputs": [],
   "source": [
    "import numpy as np"
   ]
  },
  {
   "cell_type": "code",
   "execution_count": 2,
   "metadata": {},
   "outputs": [],
   "source": [
    "# 但是我们展示的时候，还是用之前的那个三元一次方程组\n",
    "mat_a = np.array(\n",
    "    [[ 7405.4204,   -182.24994,   608.1     ],\n",
    "     [ -182.24994,   608.1,        -9.000001],\n",
    "     [  608.1,        -9.000001,   90.      ]], dtype=np.float32)\n",
    "\n",
    "mat_b = np.array(\n",
    "    [[12682.08  ],\n",
    "     [-2639.4387],\n",
    "     [ 1227.2014]], dtype=np.float32)"
   ]
  },
  {
   "cell_type": "code",
   "execution_count": 3,
   "metadata": {},
   "outputs": [],
   "source": [
    "# 雅各比迭代法：\n",
    "# 对于 A*X = B\n",
    "# 将 A 分解成对焦矩阵 D 和剩余部分 R\n",
    "mat_d = np.diag(np.diag(mat_a))\n",
    "mat_r = mat_a - mat_d\n",
    "\n",
    "# A*X = B => (D+R)*X = B => DX = B - R*X\n",
    "\n",
    "# 每次迭代的 X 新值可以写成：\n",
    "# X_new = inv(D) * (B - R*X_old)\n",
    "\n",
    "# 雅各比迭代法其实还有更复杂的一步，但是我们省略了，直接获取 inv(D)\n",
    "# 我们的目的是让大家知道有迭代法这个东西\n",
    "mat_di = np.linalg.inv(mat_d)"
   ]
  },
  {
   "cell_type": "code",
   "execution_count": 4,
   "metadata": {},
   "outputs": [
    {
     "data": {
      "text/plain": [
       "array([[1., 0., 0.],\n",
       "       [0., 1., 0.],\n",
       "       [0., 0., 1.]], dtype=float32)"
      ]
     },
     "execution_count": 4,
     "metadata": {},
     "output_type": "execute_result"
    }
   ],
   "source": [
    "np.matmul(mat_di, mat_d)"
   ]
  },
  {
   "cell_type": "code",
   "execution_count": 5,
   "metadata": {},
   "outputs": [
    {
     "name": "stdout",
     "output_type": "stream",
     "text": [
      "[[0.04014376]\n",
      " [0.93205122]\n",
      " [0.58665674]]\n"
     ]
    }
   ],
   "source": [
    "# 我们做 100 次迭代\n",
    "iter_max = 100\n",
    "\n",
    "# X 的初始值随机生成\n",
    "x_0 = np.random.rand(3,1)\n",
    "x_k = x_0\n",
    "x_kp = x_0\n",
    "\n",
    "print(x_0)"
   ]
  },
  {
   "cell_type": "code",
   "execution_count": 6,
   "metadata": {},
   "outputs": [
    {
     "name": "stdout",
     "output_type": "stream",
     "text": [
      "[[ 1.18779547]\n",
      " [-3.90723458]\n",
      " [ 5.21931015]]\n"
     ]
    }
   ],
   "source": [
    "for _ in range(iter_max):\n",
    "    x_kp = np.matmul(mat_di, (mat_b - np.matmul(mat_r, x_k)))\n",
    "    x_k = x_kp\n",
    "    \n",
    "print(x_kp)"
   ]
  },
  {
   "cell_type": "code",
   "execution_count": 7,
   "metadata": {},
   "outputs": [
    {
     "name": "stdout",
     "output_type": "stream",
     "text": [
      "Checking the ground truth of [a,b,c]\n"
     ]
    },
    {
     "data": {
      "text/plain": [
       "array([ 1.2, -3.7,  4.9])"
      ]
     },
     "execution_count": 7,
     "metadata": {},
     "output_type": "execute_result"
    }
   ],
   "source": [
    "print('Checking the ground truth of [a,b,c]')\n",
    "np.array([1.2, -3.7, 4.9]).astype(np.float64)"
   ]
  },
  {
   "cell_type": "code",
   "execution_count": 8,
   "metadata": {},
   "outputs": [
    {
     "name": "stdout",
     "output_type": "stream",
     "text": [
      "Checking the result from direct linear solver\n"
     ]
    },
    {
     "data": {
      "text/plain": [
       "array([ 1.24553038, -3.65123161,  5.01053186])"
      ]
     },
     "execution_count": 8,
     "metadata": {},
     "output_type": "execute_result"
    }
   ],
   "source": [
    "print('Checking the result from direct linear solver')\n",
    "np.array([1.24553038, -3.65123161,  5.01053186]).astype(np.float64)"
   ]
  }
 ],
 "metadata": {
  "kernelspec": {
   "display_name": "Python 3",
   "language": "python",
   "name": "python3"
  },
  "language_info": {
   "codemirror_mode": {
    "name": "ipython",
    "version": 3
   },
   "file_extension": ".py",
   "mimetype": "text/x-python",
   "name": "python",
   "nbconvert_exporter": "python",
   "pygments_lexer": "ipython3",
   "version": "3.6.6"
  }
 },
 "nbformat": 4,
 "nbformat_minor": 2
}
