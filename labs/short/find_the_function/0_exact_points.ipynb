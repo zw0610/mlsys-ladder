{
 "cells": [
  {
   "cell_type": "markdown",
   "metadata": {},
   "source": [
    "# 阶段二：寻找函数\n",
    "\n",
    "## 用待定系数法确定一个函数"
   ]
  },
  {
   "cell_type": "code",
   "execution_count": 1,
   "metadata": {},
   "outputs": [],
   "source": [
    "import numpy as np\n",
    "from matplotlib.pyplot import plot"
   ]
  },
  {
   "cell_type": "code",
   "execution_count": 2,
   "metadata": {},
   "outputs": [],
   "source": [
    "# 定义一个函数：y = 1.2 * x * x - 3.7 * x + 4.9\n",
    "\n",
    "a_ground_truth = np.float(1.2)\n",
    "b_ground_truth = np.float(-3.7)\n",
    "c_ground_truth = np.float(4.9)\n",
    "\n",
    "target_func = lambda x: a_ground_truth * x * x + b_ground_truth * x + c_ground_truth"
   ]
  },
  {
   "cell_type": "code",
   "execution_count": 3,
   "metadata": {},
   "outputs": [
    {
     "name": "stdout",
     "output_type": "stream",
     "text": [
      "[[-1.3   11.738]\n",
      " [ 0.5    3.35 ]\n",
      " [ 3.7    7.638]]\n"
     ]
    },
    {
     "data": {
      "text/plain": [
       "[<matplotlib.lines.Line2D at 0x1124b6470>]"
      ]
     },
     "execution_count": 3,
     "metadata": {},
     "output_type": "execute_result"
    },
    {
     "data": {
      "image/png": "[encoded data removed]",
      "text/plain": [
       "<Figure size 432x288 with 1 Axes>"
      ]
     },
     "metadata": {
      "needs_background": "light"
     },
     "output_type": "display_data"
    }
   ],
   "source": [
    "# 生成三个在这个函数上的点\n",
    "points_x = [-1.3, 0.5, 3.7]\n",
    "points_y = [target_func(x) for x in points_x]\n",
    "\n",
    "# 把这个函数和这三个点都画出来\n",
    "pts_x_ground_truth = np.arange(-5.0, 5.0, 0.2)\n",
    "pts_y_ground_truth = [target_func(x) for x in pts_x_ground_truth]\n",
    "\n",
    "print(np.array([points_x, points_y]).T)\n",
    "\n",
    "plot(points_x, points_y, 'ro')\n",
    "plot(pts_x_ground_truth, pts_y_ground_truth)"
   ]
  },
  {
   "cell_type": "code",
   "execution_count": 4,
   "metadata": {},
   "outputs": [
    {
     "ename": "ModuleNotFoundError",
     "evalue": "No module named 'sympy'",
     "output_type": "error",
     "traceback": [
      "\u001b[0;31m---------------------------------------------------------------------------\u001b[0m",
      "\u001b[0;31mModuleNotFoundError\u001b[0m                       Traceback (most recent call last)",
      "\u001b[0;32m<ipython-input-4-6aef573226bd>\u001b[0m in \u001b[0;36m<module>\u001b[0;34m\u001b[0m\n\u001b[0;32m----> 1\u001b[0;31m \u001b[0;32mimport\u001b[0m \u001b[0msympy\u001b[0m \u001b[0;32mas\u001b[0m \u001b[0msp\u001b[0m\u001b[0;34m\u001b[0m\u001b[0m\n\u001b[0m",
      "\u001b[0;31mModuleNotFoundError\u001b[0m: No module named 'sympy'"
     ]
    }
   ],
   "source": [
    "import sympy as sp"
   ]
  },
  {
   "cell_type": "code",
   "execution_count": null,
   "metadata": {},
   "outputs": [],
   "source": [
    "# 引入待定系数 a，b，c\n",
    "a = sp.Symbol('a')\n",
    "b = sp.Symbol('b')\n",
    "c = sp.Symbol('c')"
   ]
  },
  {
   "cell_type": "code",
   "execution_count": null,
   "metadata": {},
   "outputs": [],
   "source": [
    "# 假定我们要寻找的函数可以写成 y = a * x * x + b * x + c\n",
    "hypo_func = lambda x: a * x * x + b * x + c"
   ]
  },
  {
   "cell_type": "code",
   "execution_count": null,
   "metadata": {},
   "outputs": [],
   "source": [
    "# 把三个点代入带待定系数的函数，得到三个等式\n",
    "print(\n",
    "    '\\n'.join(['{left_hand} = {right_hand} '.format(left_hand=hypo_func(x), right_hand=y) for x,y in zip(points_x, points_y)])\n",
    ")"
   ]
  },
  {
   "cell_type": "code",
   "execution_count": null,
   "metadata": {},
   "outputs": [],
   "source": [
    "# 用矩阵法求上面这组三元一次方程组\n",
    "mat_a = np.array([[1.69, -1.3, 1], [0.25, 0.5, 1], [13.69, 3.7, 1]]).astype(np.float64)\n",
    "mat_b = np.array([[11.738], [3.35], [7.639]]).astype(np.float64)\n",
    "\n",
    "print(f\"Solving A X = B, \\n where A = {mat_a} \\n and \\n B = {mat_b} \\n\\n We Got X = {np.linalg.solve(mat_a, mat_b)}\")"
   ]
  },
  {
   "cell_type": "code",
   "execution_count": null,
   "metadata": {},
   "outputs": [],
   "source": [
    "# 跟真实值比较一下\n",
    "print('Checking the ground truth of [a,b,c]')\n",
    "np.array([[a_ground_truth],[b_ground_truth],[c_ground_truth]]).astype(np.float64)"
   ]
  },
  {
   "cell_type": "code",
   "execution_count": null,
   "metadata": {},
   "outputs": [],
   "source": []
  }
 ],
 "metadata": {
  "kernelspec": {
   "display_name": "Python 3",
   "language": "python",
   "name": "python3"
  },
  "language_info": {
   "codemirror_mode": {
    "name": "ipython",
    "version": 3
   },
   "file_extension": ".py",
   "mimetype": "text/x-python",
   "name": "python",
   "nbconvert_exporter": "python",
   "pygments_lexer": "ipython3",
   "version": "3.6.6"
  }
 },
 "nbformat": 4,
 "nbformat_minor": 4
}
