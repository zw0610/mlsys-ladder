{
 "cells": [
  {
   "cell_type": "markdown",
   "metadata": {},
   "source": [
    "# 阶段二：寻找函数\n",
    "\n",
    "## 梯度下降法拟合函数"
   ]
  },
  {
   "cell_type": "code",
   "execution_count": null,
   "metadata": {},
   "outputs": [],
   "source": [
    "import numpy as np\n",
    "import matplotlib.pyplot as plt\n",
    "from matplotlib.pyplot import plot"
   ]
  },
  {
   "cell_type": "code",
   "execution_count": 2,
   "metadata": {},
   "outputs": [],
   "source": [
    "# 基准函数依然是 y = 1.2 * x * x - 3.7 * x + 4.9\n",
    "a_ground_truth = np.double(1.2)\n",
    "b_ground_truth = np.double(-3.7)\n",
    "c_ground_truth = np.double(4.9)\n",
    "\n",
    "target_func = lambda x: a_ground_truth * x * x + b_ground_truth * x + c_ground_truth"
   ]
  },
  {
   "cell_type": "code",
   "execution_count": 3,
   "metadata": {},
   "outputs": [
    {
     "data": {
      "text/plain": [
       "[<matplotlib.lines.Line2D at 0x7f2c4cafe208>]"
      ]
     },
     "execution_count": 3,
     "metadata": {},
     "output_type": "execute_result"
    },
    {
     "data": {
      "image/png": "[encoded data removed]",
      "text/plain": [
       "<Figure size 432x288 with 1 Axes>"
      ]
     },
     "metadata": {
      "needs_background": "light"
     },
     "output_type": "display_data"
    }
   ],
   "source": [
    "# 生成拟合数据并画出来\n",
    "points_x = np.arange(-4.5, 4.5, 0.2).astype(np.float64)\n",
    "points_y = [target_func(x) + 10.0 * (np.double(np.random.rand()) - 0.5) for x in points_x]\n",
    "\n",
    "\n",
    "pts_x_ground_truth = np.arange(-5.0, 5.0, 0.2).astype(np.float64)\n",
    "pts_y_ground_truth = [target_func(x) for x in pts_x_ground_truth]\n",
    "\n",
    "plot(points_x, points_y, 'ro')\n",
    "plot(pts_x_ground_truth, pts_y_ground_truth)"
   ]
  },
  {
   "cell_type": "code",
   "execution_count": 4,
   "metadata": {},
   "outputs": [],
   "source": [
    "import sympy as sp"
   ]
  },
  {
   "cell_type": "code",
   "execution_count": 5,
   "metadata": {},
   "outputs": [],
   "source": [
    "a = sp.Symbol('a')\n",
    "b = sp.Symbol('b')\n",
    "c = sp.Symbol('c')\n",
    "\n",
    "sym_x = sp.Symbol('x')"
   ]
  },
  {
   "cell_type": "code",
   "execution_count": 6,
   "metadata": {},
   "outputs": [],
   "source": [
    "# 假设寻找的函数符合 y = a * x * x + b * x + c 这个形式\n",
    "hypo_func = lambda x: a * x * x + b * x + c"
   ]
  },
  {
   "cell_type": "code",
   "execution_count": 7,
   "metadata": {},
   "outputs": [],
   "source": [
    "# 设定如何衡量拟合函数的结果和真实值的差距\n",
    "distance_func = lambda x,y: (y - hypo_func(x))**2"
   ]
  },
  {
   "cell_type": "code",
   "execution_count": 8,
   "metadata": {},
   "outputs": [
    {
     "data": {
      "text/latex": [
       "$\\displaystyle \\operatorname{Poly}{\\left( 410.0625 a^{2} - 182.25 ab + 40.5 ac - 1821.02891914692 a + 20.25 b^{2} - 9.0 bc + 404.673093143761 b + 1.0 c^{2} - 89.9273540319468 c + 2021.73225079678, a, b, c, domain=\\mathbb{R} \\right)}$"
      ],
      "text/plain": [
       "Poly(410.0625*a**2 - 182.25*a*b + 40.5*a*c - 1821.02891914692*a + 20.25*b**2 - 9.0*b*c + 404.673093143761*b + 1.0*c**2 - 89.9273540319468*c + 2021.73225079678, a, b, c, domain='RR')"
      ]
     },
     "execution_count": 8,
     "metadata": {},
     "output_type": "execute_result"
    }
   ],
   "source": [
    "# 当仅仅第一个拟合数据点被放入拟合函数时得到的损失：loss_0\n",
    "loss = sp.Poly(distance_func(points_x[0], points_y[0]))\n",
    "loss"
   ]
  },
  {
   "cell_type": "code",
   "execution_count": 9,
   "metadata": {},
   "outputs": [],
   "source": [
    "# 找出，从第一个拟合数据点看到的，损失（loss）随着 a，b，c 变化的方式：dloss/da. dloss/db, dloss/dc\n",
    "gradients = [loss.diff(var) for var in [a,b,c]]\n",
    "gradients"
   ]
  },
  {
   "cell_type": "code",
   "execution_count": 10,
   "metadata": {},
   "outputs": [
    {
     "data": {
      "text/plain": [
       "array([0.35387374, 0.52255134, 0.59896882])"
      ]
     },
     "execution_count": 10,
     "metadata": {},
     "output_type": "execute_result"
    }
   ],
   "source": [
    "# 随意生成一组 a,b,c\n",
    "x_current = np.random.rand(3).astype(np.double)\n",
    "x_dict = {var:val for var,val in zip([a,b,c],x_current)}\n",
    "x_current"
   ]
  },
  {
   "cell_type": "code",
   "execution_count": 11,
   "metadata": {},
   "outputs": [
    {
     "data": {
      "text/plain": [
       "array([-1601.78496184,   355.95221374,   -79.10049194])"
      ]
     },
     "execution_count": 11,
     "metadata": {},
     "output_type": "execute_result"
    }
   ],
   "source": [
    "# 把上面损失随着 a，b，c 的变化中的 a, b, c 值用刚刚生成的随机值代入\n",
    "# 这里为什么可以代入，涉及到变分等复杂的数学问题，就不讲了\n",
    "gradient_val = np.array([np.double(expr.eval(x_dict)) for expr in gradients])\n",
    "gradient_val"
   ]
  },
  {
   "cell_type": "code",
   "execution_count": 12,
   "metadata": {},
   "outputs": [],
   "source": [
    "# 每次更新，把变化以多大的比例添加到 a，b，c 中\n",
    "learning_rate = 0.0001"
   ]
  },
  {
   "cell_type": "code",
   "execution_count": 13,
   "metadata": {},
   "outputs": [
    {
     "data": {
      "text/plain": [
       "array([0.51405224, 0.48695612, 0.60687887])"
      ]
     },
     "execution_count": 13,
     "metadata": {},
     "output_type": "execute_result"
    }
   ],
   "source": [
    "# 做一次梯度更新的样子\n",
    "x_next = x_current - learning_rate * gradient_val\n",
    "x_next"
   ]
  },
  {
   "cell_type": "code",
   "execution_count": 15,
   "metadata": {},
   "outputs": [
    {
     "name": "stdout",
     "output_type": "stream",
     "text": [
      "[0.40023695 0.54132846 0.21619008]\n",
      "[ 1.10750004 -3.80025214  4.85859898]\n",
      "[ 1.1074422  -3.80023955  4.85927862]\n",
      "[ 1.10739485 -3.80023679  4.8598353 ]\n",
      "[ 1.10735606 -3.80023488  4.86029139]\n",
      "[ 1.10732427 -3.80023334  4.86066509]\n",
      "[ 1.10729823 -3.80023208  4.86097128]\n",
      "[ 1.10727689 -3.80023104  4.86122215]\n",
      "[ 1.1072594  -3.80023019  4.8614277 ]\n",
      "[ 1.10724508 -3.8002295   4.86159611]\n",
      "[ 1.10723334 -3.80022893  4.8617341 ]\n",
      "[ 1.10722372 -3.80022846  4.86184716]\n",
      "[ 1.10721584 -3.80022808  4.8619398 ]\n",
      "[ 1.10720939 -3.80022777  4.8620157 ]\n",
      "[ 1.1072041  -3.80022751  4.86207789]\n",
      "[ 1.10719976 -3.8002273   4.86212884]\n",
      "[ 1.10719621 -3.80022713  4.86217059]\n",
      "[ 1.1071933  -3.80022698  4.86220479]\n",
      "[ 1.10719092 -3.80022687  4.86223282]\n",
      "[ 1.10718897 -3.80022677  4.86225578]\n",
      "[ 1.10718737 -3.8002267   4.8622746 ]\n",
      "[ 1.10718606 -3.80022663  4.86229001]\n",
      "[ 1.10718498 -3.80022658  4.86230264]\n",
      "[ 1.1071841  -3.80022654  4.86231299]\n",
      "[ 1.10718338 -3.8002265   4.86232147]\n",
      "[ 1.10718279 -3.80022647  4.86232842]\n",
      "[ 1.1071823  -3.80022645  4.86233411]\n",
      "[ 1.10718191 -3.80022643  4.86233877]\n",
      "[ 1.10718158 -3.80022642  4.8623426 ]\n",
      "[ 1.10718132 -3.8002264   4.86234573]\n"
     ]
    }
   ],
   "source": [
    "# 一共做 50 * 30 次全数据更新\n",
    "iter_max = 50*30\n",
    "\n",
    "x_current = np.random.rand(3).astype(np.double)\n",
    "\n",
    "for i in range(iter_max):\n",
    "    if i%50 == 0:\n",
    "        print(x_current)\n",
    "    for ptx, pty in zip(points_x, points_y):\n",
    "        # 对于每个点都更新一下\n",
    "        x_current = x_next\n",
    "        x_dict = {var:val for var, val in zip([a,b,c], x_current)}\n",
    "        \n",
    "        loss = sp.Poly(distance_func(ptx, pty))\n",
    "        gradient_val = np.array(\n",
    "            [np.double( loss.diff(var).eval(x_dict) ) for var in [a,b,c]]\n",
    "        )\n",
    "        x_next = x_current - learning_rate * gradient_val"
   ]
  },
  {
   "cell_type": "code",
   "execution_count": 16,
   "metadata": {},
   "outputs": [
    {
     "name": "stdout",
     "output_type": "stream",
     "text": [
      "Checking the ground truth of [a,b,c]\n"
     ]
    },
    {
     "data": {
      "text/plain": [
       "array([ 1.2, -3.7,  4.9])"
      ]
     },
     "execution_count": 16,
     "metadata": {},
     "output_type": "execute_result"
    }
   ],
   "source": [
    "# 检查一下结果\n",
    "print('Checking the ground truth of [a,b,c]')\n",
    "np.array([1.2, -3.7, 4.9]).astype(np.float64)"
   ]
  },
  {
   "cell_type": "code",
   "execution_count": null,
   "metadata": {},
   "outputs": [],
   "source": []
  }
 ],
 "metadata": {
  "kernelspec": {
   "display_name": "Python 3",
   "language": "python",
   "name": "python3"
  },
  "language_info": {
   "codemirror_mode": {
    "name": "ipython",
    "version": 3
   },
   "file_extension": ".py",
   "mimetype": "text/x-python",
   "name": "python",
   "nbconvert_exporter": "python",
   "pygments_lexer": "ipython3",
   "version": "3.6.6"
  }
 },
 "nbformat": 4,
 "nbformat_minor": 2
}
