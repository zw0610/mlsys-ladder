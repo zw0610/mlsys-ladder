{
 "cells": [
  {
   "cell_type": "markdown",
   "metadata": {},
   "source": [
    "# 阶段二：寻找函数\n",
    "\n",
    "## 用最小二乘法拟合一个函数"
   ]
  },
  {
   "cell_type": "code",
   "execution_count": 1,
   "metadata": {},
   "outputs": [],
   "source": [
    "import numpy as np\n",
    "import matplotlib.pyplot as plt\n",
    "from matplotlib.pyplot import plot"
   ]
  },
  {
   "cell_type": "code",
   "execution_count": 2,
   "metadata": {},
   "outputs": [],
   "source": [
    "# 我们用来生成拟合数据的基准函数依然是 y = 1.2 * x * x - 3.7 * x + 4.9\n",
    "a_ground_truth = np.double(1.2)\n",
    "b_ground_truth = np.double(-3.7)\n",
    "c_ground_truth = np.double(4.9)\n",
    "\n",
    "target_func = lambda x: a_ground_truth * x * x + b_ground_truth * x + c_ground_truth"
   ]
  },
  {
   "cell_type": "code",
   "execution_count": 3,
   "metadata": {},
   "outputs": [
    {
     "data": {
      "text/plain": [
       "[<matplotlib.lines.Line2D at 0x11dfb6ef0>]"
      ]
     },
     "execution_count": 3,
     "metadata": {},
     "output_type": "execute_result"
    },
    {
     "data": {
      "image/png": "[encoded data removed]",
      "text/plain": [
       "<Figure size 432x288 with 1 Axes>"
      ]
     },
     "metadata": {
      "needs_background": "light"
     },
     "output_type": "display_data"
    }
   ],
   "source": [
    "# 生成拟合数据的时候，我们引入了噪音：10.0 * (np.double(np.random.rand()) - 0.5)\n",
    "points_x = np.arange(-4.5, 4.5, 0.2).astype(np.float64)\n",
    "points_y = [target_func(x) + 10.0 * (np.double(np.random.rand()) - 0.5) for x in points_x]\n",
    "\n",
    "# 将基准函数和拟合数据画出来\n",
    "pts_x_ground_truth = np.arange(-5.0, 5.0, 0.2).astype(np.float64)\n",
    "pts_y_ground_truth = [target_func(x) for x in pts_x_ground_truth]\n",
    "\n",
    "plot(points_x, points_y, 'ro')\n",
    "plot(pts_x_ground_truth, pts_y_ground_truth)"
   ]
  },
  {
   "cell_type": "code",
   "execution_count": 4,
   "metadata": {},
   "outputs": [],
   "source": [
    "import sympy as sp"
   ]
  },
  {
   "cell_type": "code",
   "execution_count": 5,
   "metadata": {},
   "outputs": [],
   "source": [
    "a = sp.Symbol('a')\n",
    "b = sp.Symbol('b')\n",
    "c = sp.Symbol('c')"
   ]
  },
  {
   "cell_type": "code",
   "execution_count": 6,
   "metadata": {},
   "outputs": [],
   "source": [
    "# 依然假设需要拟合的函数符合这样一个形式： y = a * x * x + b * x + c\n",
    "hypo_func = lambda x: a * x * x + b * x + c"
   ]
  },
  {
   "cell_type": "code",
   "execution_count": 7,
   "metadata": {},
   "outputs": [],
   "source": [
    "# 定义如何衡量 通过拟合函数预测出来的值 和 真实数据值 之间的差距：差的平方\n",
    "distance_func = lambda x,y: (y - hypo_func(x))**2"
   ]
  },
  {
   "cell_type": "code",
   "execution_count": 8,
   "metadata": {},
   "outputs": [],
   "source": [
    "# 将上面的衡量标准应用到所有的点\n",
    "loss_func = lambda pts_x, pts_y: sum([distance_func(x,y) for x, y in zip(pts_x, pts_y)])"
   ]
  },
  {
   "cell_type": "code",
   "execution_count": 9,
   "metadata": {},
   "outputs": [
    {
     "data": {
      "text/plain": [
       "3702.71010000001*a**2 - 182.249999999993*a*b + 608.100000000001*a*c - 12767.7419690603*a + 304.05*b**2 - 8.99999999999965*b*c + 2499.00596498215*b + 45.0*c**2 - 1245.94157282206*c + 15925.8460799598"
      ]
     },
     "execution_count": 9,
     "metadata": {},
     "output_type": "execute_result"
    }
   ],
   "source": [
    "# 得到整个拟合数据在拟合函数上的的表现\n",
    "loss = loss_func(points_x, points_y)\n",
    "loss = sp.simplify(loss)\n",
    "\n",
    "loss"
   ]
  },
  {
   "cell_type": "code",
   "execution_count": 10,
   "metadata": {},
   "outputs": [
    {
     "name": "stdout",
     "output_type": "stream",
     "text": [
      "7405.42020000003*a - 182.249999999993*b + 608.100000000001*c - 12767.7419690603 = 0\n",
      "-182.249999999993*a + 608.100000000001*b - 8.99999999999965*c + 2499.00596498215 = 0\n",
      "608.100000000001*a - 8.99999999999965*b + 90.0*c - 1245.94157282206 = 0\n"
     ]
    }
   ],
   "source": [
    "# 上面那个 loss 最小的时候，就是导数为零的时候： d(loss)/d(a,b,c) = 0 \n",
    "print(\n",
    "    '\\n'.join([ f\"{sp.diff(loss, var)} = 0\" for var in [a,b,c] ])\n",
    ")"
   ]
  },
  {
   "cell_type": "code",
   "execution_count": 11,
   "metadata": {},
   "outputs": [],
   "source": [
    "# 又得到了一组三元一次方程组，依然用矩阵法求解\n",
    "mat_a = [sp.Poly(sp.diff(loss, var)).coeffs()[:-1] for var in [a,b,c]]\n",
    "mat_b = [sp.Poly(-sp.diff(loss, var)).coeffs()[-1] for var in [a,b,c]]\n",
    "\n",
    "mat_a = np.array(mat_a, dtype=np.float64)\n",
    "mat_b = np.array(mat_b, dtype=np.float64)"
   ]
  },
  {
   "cell_type": "code",
   "execution_count": 12,
   "metadata": {},
   "outputs": [
    {
     "name": "stdout",
     "output_type": "stream",
     "text": [
      "Solving A X = B, \n",
      " where A = [[7405.4202 -182.25    608.1   ]\n",
      " [-182.25    608.1      -9.    ]\n",
      " [ 608.1      -9.       90.    ]] \n",
      " and \n",
      " B = [12767.74196906 -2499.00596498  1245.94157282] \n",
      "\n",
      " We Got X = [ 1.18397626 -3.67363263  5.47669904]\n"
     ]
    }
   ],
   "source": [
    "print(f\"Solving A X = B, \\n where A = {mat_a} \\n and \\n B = {mat_b} \\n\\n We Got X = {np.linalg.solve(mat_a, mat_b)}\")"
   ]
  },
  {
   "cell_type": "code",
   "execution_count": 13,
   "metadata": {},
   "outputs": [
    {
     "name": "stdout",
     "output_type": "stream",
     "text": [
      "Checking the ground truth of [a,b,c]\n"
     ]
    },
    {
     "data": {
      "text/plain": [
       "array([ 1.2, -3.7,  4.9])"
      ]
     },
     "execution_count": 13,
     "metadata": {},
     "output_type": "execute_result"
    }
   ],
   "source": [
    "# 对比一下结果\n",
    "print('Checking the ground truth of [a,b,c]')\n",
    "np.array([a_ground_truth,b_ground_truth,c_ground_truth]).astype(np.float64)"
   ]
  },
  {
   "cell_type": "code",
   "execution_count": 14,
   "metadata": {},
   "outputs": [],
   "source": [
    "a,b,c = tuple(np.linalg.solve(mat_a, mat_b))"
   ]
  },
  {
   "cell_type": "code",
   "execution_count": 15,
   "metadata": {},
   "outputs": [
    {
     "data": {
      "text/plain": [
       "[<matplotlib.lines.Line2D at 0x11fb100b8>]"
      ]
     },
     "execution_count": 15,
     "metadata": {},
     "output_type": "execute_result"
    },
    {
     "data": {
      "image/png": "[encoded data removed]",
      "text/plain": [
       "<Figure size 720x720 with 1 Axes>"
      ]
     },
     "metadata": {
      "needs_background": "light"
     },
     "output_type": "display_data"
    }
   ],
   "source": [
    "# 我们把基准函数、拟合数据、拟合出来的函数都画出来\n",
    "pts_x_fit = np.arange(-5.0, 5.0, 0.2).astype(np.float64)\n",
    "pts_y_fit = [hypo_func(x) for x in pts_x_fit]\n",
    "\n",
    "plt.figure(figsize=(10,10))\n",
    "plot(points_x, points_y, 'ro')\n",
    "plot(pts_x_ground_truth, pts_y_ground_truth)\n",
    "plot(pts_x_fit, pts_y_fit, 'y')"
   ]
  },
  {
   "cell_type": "code",
   "execution_count": null,
   "metadata": {},
   "outputs": [],
   "source": []
  }
 ],
 "metadata": {
  "kernelspec": {
   "display_name": "Python 3",
   "language": "python",
   "name": "python3"
  },
  "language_info": {
   "codemirror_mode": {
    "name": "ipython",
    "version": 3
   },
   "file_extension": ".py",
   "mimetype": "text/x-python",
   "name": "python",
   "nbconvert_exporter": "python",
   "pygments_lexer": "ipython3",
   "version": "3.6.6"
  }
 },
 "nbformat": 4,
 "nbformat_minor": 2
}
